{
 "cells": [
  {
   "cell_type": "markdown",
   "id": "5509012d-7cc1-4e8d-8b5f-4fe841da03e4",
   "metadata": {},
   "source": [
    "Importing Libraries"
   ]
  },
  {
   "cell_type": "code",
   "execution_count": 53,
   "id": "c125be3a-5b14-4f9f-8d00-c7a83021186e",
   "metadata": {},
   "outputs": [],
   "source": [
    "import pandas as pd\n",
    "import matplotlib.pyplot as plt\n",
    "import seaborn as sns\n",
    "import numpy as np\n",
    "from scipy import stats"
   ]
  },
  {
   "cell_type": "markdown",
   "id": "5e1e7a87-5542-46d6-88fe-e2e6ab56ecfd",
   "metadata": {},
   "source": [
    "Importing The Dataset"
   ]
  },
  {
   "cell_type": "code",
   "execution_count": 12,
   "id": "cda2aa52-dc84-40d3-9e97-ae65e9c208b8",
   "metadata": {},
   "outputs": [
    {
     "name": "stdout",
     "output_type": "stream",
     "text": [
      "          Area  Year  Savanna fires  Forest fires  Crop Residues  \\\n",
      "0  Afghanistan  1990        14.7237        0.0557       205.6077   \n",
      "1  Afghanistan  1991        14.7237        0.0557       209.4971   \n",
      "2  Afghanistan  1992        14.7237        0.0557       196.5341   \n",
      "3  Afghanistan  1993        14.7237        0.0557       230.8175   \n",
      "4  Afghanistan  1994        14.7237        0.0557       242.0494   \n",
      "\n",
      "   Rice Cultivation  Drained organic soils (CO2)  Pesticides Manufacturing  \\\n",
      "0            686.00                          0.0                 11.807483   \n",
      "1            678.16                          0.0                 11.712073   \n",
      "2            686.00                          0.0                 11.712073   \n",
      "3            686.00                          0.0                 11.712073   \n",
      "4            705.60                          0.0                 11.712073   \n",
      "\n",
      "   Food Transport  Forestland  ...  Manure Management  Fires in organic soils  \\\n",
      "0         63.1152   -2388.803  ...           319.1763                     0.0   \n",
      "1         61.2125   -2388.803  ...           342.3079                     0.0   \n",
      "2         53.3170   -2388.803  ...           349.1224                     0.0   \n",
      "3         54.3617   -2388.803  ...           352.2947                     0.0   \n",
      "4         53.9874   -2388.803  ...           367.6784                     0.0   \n",
      "\n",
      "   Fires in humid tropical forests  On-farm energy use  Rural population  \\\n",
      "0                              0.0                 NaN         9655167.0   \n",
      "1                              0.0                 NaN        10230490.0   \n",
      "2                              0.0                 NaN        10995568.0   \n",
      "3                              0.0                 NaN        11858090.0   \n",
      "4                              0.0                 NaN        12690115.0   \n",
      "\n",
      "   Urban population  Total Population - Male  Total Population - Female  \\\n",
      "0         2593947.0                5348387.0                  5346409.0   \n",
      "1         2763167.0                5372959.0                  5372208.0   \n",
      "2         2985663.0                6028494.0                  6028939.0   \n",
      "3         3237009.0                7003641.0                  7000119.0   \n",
      "4         3482604.0                7733458.0                  7722096.0   \n",
      "\n",
      "   total_emission  Average Temperature °C  \n",
      "0     2198.963539                0.536167  \n",
      "1     2323.876629                0.020667  \n",
      "2     2356.304229               -0.259583  \n",
      "3     2368.470529                0.101917  \n",
      "4     2500.768729                0.372250  \n",
      "\n",
      "[5 rows x 31 columns]\n"
     ]
    }
   ],
   "source": [
    "df = pd.read_csv(\"co2_emissions_from_agri.csv\")\n",
    "print(df.head())"
   ]
  },
  {
   "cell_type": "code",
   "execution_count": 14,
   "id": "035a081e-710d-4a81-ab66-a873e4cb0be9",
   "metadata": {},
   "outputs": [
    {
     "name": "stdout",
     "output_type": "stream",
     "text": [
      "<class 'pandas.core.frame.DataFrame'>\n",
      "RangeIndex: 6965 entries, 0 to 6964\n",
      "Data columns (total 31 columns):\n",
      " #   Column                           Non-Null Count  Dtype  \n",
      "---  ------                           --------------  -----  \n",
      " 0   Area                             6965 non-null   object \n",
      " 1   Year                             6965 non-null   int64  \n",
      " 2   Savanna fires                    6934 non-null   float64\n",
      " 3   Forest fires                     6872 non-null   float64\n",
      " 4   Crop Residues                    5576 non-null   float64\n",
      " 5   Rice Cultivation                 6965 non-null   float64\n",
      " 6   Drained organic soils (CO2)      6965 non-null   float64\n",
      " 7   Pesticides Manufacturing         6965 non-null   float64\n",
      " 8   Food Transport                   6965 non-null   float64\n",
      " 9   Forestland                       6472 non-null   float64\n",
      " 10  Net Forest conversion            6472 non-null   float64\n",
      " 11  Food Household Consumption       6492 non-null   float64\n",
      " 12  Food Retail                      6965 non-null   float64\n",
      " 13  On-farm Electricity Use          6965 non-null   float64\n",
      " 14  Food Packaging                   6965 non-null   float64\n",
      " 15  Agrifood Systems Waste Disposal  6965 non-null   float64\n",
      " 16  Food Processing                  6965 non-null   float64\n",
      " 17  Fertilizers Manufacturing        6965 non-null   float64\n",
      " 18  IPPU                             6222 non-null   float64\n",
      " 19  Manure applied to Soils          6037 non-null   float64\n",
      " 20  Manure left on Pasture           6965 non-null   float64\n",
      " 21  Manure Management                6037 non-null   float64\n",
      " 22  Fires in organic soils           6965 non-null   float64\n",
      " 23  Fires in humid tropical forests  6810 non-null   float64\n",
      " 24  On-farm energy use               6009 non-null   float64\n",
      " 25  Rural population                 6965 non-null   float64\n",
      " 26  Urban population                 6965 non-null   float64\n",
      " 27  Total Population - Male          6965 non-null   float64\n",
      " 28  Total Population - Female        6965 non-null   float64\n",
      " 29  total_emission                   6965 non-null   float64\n",
      " 30  Average Temperature °C           6965 non-null   float64\n",
      "dtypes: float64(29), int64(1), object(1)\n",
      "memory usage: 1.6+ MB\n"
     ]
    }
   ],
   "source": [
    "#Checking The Information Of The Dataset\n",
    "df.info()"
   ]
  },
  {
   "cell_type": "code",
   "execution_count": 18,
   "id": "bb9d1c05-e89f-4679-bbe7-6fa4ded8a329",
   "metadata": {},
   "outputs": [
    {
     "data": {
      "text/plain": [
       "Index(['Area', 'Year', 'Savanna fires', 'Forest fires', 'Crop Residues',\n",
       "       'Rice Cultivation', 'Drained organic soils (CO2)',\n",
       "       'Pesticides Manufacturing', 'Food Transport', 'Forestland',\n",
       "       'Net Forest conversion', 'Food Household Consumption', 'Food Retail',\n",
       "       'On-farm Electricity Use', 'Food Packaging',\n",
       "       'Agrifood Systems Waste Disposal', 'Food Processing',\n",
       "       'Fertilizers Manufacturing', 'IPPU', 'Manure applied to Soils',\n",
       "       'Manure left on Pasture', 'Manure Management', 'Fires in organic soils',\n",
       "       'Fires in humid tropical forests', 'On-farm energy use',\n",
       "       'Rural population', 'Urban population', 'Total Population - Male',\n",
       "       'Total Population - Female', 'total_emission',\n",
       "       'Average Temperature °C'],\n",
       "      dtype='object')"
      ]
     },
     "execution_count": 18,
     "metadata": {},
     "output_type": "execute_result"
    }
   ],
   "source": [
    "#Checking The Column names\n",
    "df.columns"
   ]
  },
  {
   "cell_type": "code",
   "execution_count": 20,
   "id": "8259cbfd-3b93-4a34-890a-4b2bd5522700",
   "metadata": {},
   "outputs": [
    {
     "data": {
      "text/plain": [
       "0"
      ]
     },
     "execution_count": 20,
     "metadata": {},
     "output_type": "execute_result"
    }
   ],
   "source": [
    "#Checking For Duplicates In the Dataset, If Found Drop\n",
    "df.duplicated().sum()"
   ]
  },
  {
   "cell_type": "markdown",
   "id": "151a7c47-a217-4bf2-8194-d578d7522e1e",
   "metadata": {},
   "source": [
    "There are 0 duplicates in the dataset"
   ]
  },
  {
   "cell_type": "code",
   "execution_count": 22,
   "id": "9612ae71-4625-4f76-97b4-254450ff235f",
   "metadata": {},
   "outputs": [
    {
     "data": {
      "text/plain": [
       "Area                                  0\n",
       "Year                                  0\n",
       "Savanna fires                        31\n",
       "Forest fires                         93\n",
       "Crop Residues                      1389\n",
       "Rice Cultivation                      0\n",
       "Drained organic soils (CO2)           0\n",
       "Pesticides Manufacturing              0\n",
       "Food Transport                        0\n",
       "Forestland                          493\n",
       "Net Forest conversion               493\n",
       "Food Household Consumption          473\n",
       "Food Retail                           0\n",
       "On-farm Electricity Use               0\n",
       "Food Packaging                        0\n",
       "Agrifood Systems Waste Disposal       0\n",
       "Food Processing                       0\n",
       "Fertilizers Manufacturing             0\n",
       "IPPU                                743\n",
       "Manure applied to Soils             928\n",
       "Manure left on Pasture                0\n",
       "Manure Management                   928\n",
       "Fires in organic soils                0\n",
       "Fires in humid tropical forests     155\n",
       "On-farm energy use                  956\n",
       "Rural population                      0\n",
       "Urban population                      0\n",
       "Total Population - Male               0\n",
       "Total Population - Female             0\n",
       "total_emission                        0\n",
       "Average Temperature °C                0\n",
       "dtype: int64"
      ]
     },
     "execution_count": 22,
     "metadata": {},
     "output_type": "execute_result"
    }
   ],
   "source": [
    "#Checking For NaN Values, Removing Them If They Exist\n",
    "df.isna().sum()"
   ]
  },
  {
   "cell_type": "markdown",
   "id": "cbb34db4-018a-48f8-93eb-ad8a75021788",
   "metadata": {},
   "source": [
    "Missing values are present in the Savanna fires, Crop Residues, Rice Cultivation, Forestland, Net Forest conversion, Food Household Consumption, IPPU, \n",
    "Manure applied to Solids, Manure Management, Fires in humid tropical forests and On-farm energy use columns"
   ]
  },
  {
   "cell_type": "code",
   "execution_count": 24,
   "id": "644297a3-a2d9-4d57-ad68-936103ffe71c",
   "metadata": {},
   "outputs": [
    {
     "data": {
      "text/plain": [
       "Area                               0\n",
       "Year                               0\n",
       "Savanna fires                      0\n",
       "Forest fires                       0\n",
       "Crop Residues                      0\n",
       "Rice Cultivation                   0\n",
       "Drained organic soils (CO2)        0\n",
       "Pesticides Manufacturing           0\n",
       "Food Transport                     0\n",
       "Forestland                         0\n",
       "Net Forest conversion              0\n",
       "Food Household Consumption         0\n",
       "Food Retail                        0\n",
       "On-farm Electricity Use            0\n",
       "Food Packaging                     0\n",
       "Agrifood Systems Waste Disposal    0\n",
       "Food Processing                    0\n",
       "Fertilizers Manufacturing          0\n",
       "IPPU                               0\n",
       "Manure applied to Soils            0\n",
       "Manure left on Pasture             0\n",
       "Manure Management                  0\n",
       "Fires in organic soils             0\n",
       "Fires in humid tropical forests    0\n",
       "On-farm energy use                 0\n",
       "Rural population                   0\n",
       "Urban population                   0\n",
       "Total Population - Male            0\n",
       "Total Population - Female          0\n",
       "total_emission                     0\n",
       "Average Temperature °C             0\n",
       "dtype: int64"
      ]
     },
     "execution_count": 24,
     "metadata": {},
     "output_type": "execute_result"
    }
   ],
   "source": [
    "df.dropna(inplace=True)\n",
    "df.isna().sum()"
   ]
  },
  {
   "cell_type": "markdown",
   "id": "e7ffdc5f-32c9-44a6-803e-6e5b14f3ad63",
   "metadata": {},
   "source": [
    "There are no missing Values"
   ]
  },
  {
   "cell_type": "code",
   "execution_count": 30,
   "id": "1426c498-dea5-42b4-bb9e-65e82891c1f7",
   "metadata": {},
   "outputs": [
    {
     "name": "stdout",
     "output_type": "stream",
     "text": [
      "<class 'pandas.core.frame.DataFrame'>\n",
      "Index: 4546 entries, 31 to 6964\n",
      "Data columns (total 31 columns):\n",
      " #   Column                           Non-Null Count  Dtype  \n",
      "---  ------                           --------------  -----  \n",
      " 0   Area                             4546 non-null   object \n",
      " 1   Year                             4546 non-null   int64  \n",
      " 2   Savanna fires                    4546 non-null   float64\n",
      " 3   Forest fires                     4546 non-null   float64\n",
      " 4   Crop Residues                    4546 non-null   float64\n",
      " 5   Rice Cultivation                 4546 non-null   float64\n",
      " 6   Drained organic soils (CO2)      4546 non-null   float64\n",
      " 7   Pesticides Manufacturing         4546 non-null   float64\n",
      " 8   Food Transport                   4546 non-null   float64\n",
      " 9   Forestland                       4546 non-null   float64\n",
      " 10  Net Forest conversion            4546 non-null   float64\n",
      " 11  Food Household Consumption       4546 non-null   float64\n",
      " 12  Food Retail                      4546 non-null   float64\n",
      " 13  On-farm Electricity Use          4546 non-null   float64\n",
      " 14  Food Packaging                   4546 non-null   float64\n",
      " 15  Agrifood Systems Waste Disposal  4546 non-null   float64\n",
      " 16  Food Processing                  4546 non-null   float64\n",
      " 17  Fertilizers Manufacturing        4546 non-null   float64\n",
      " 18  IPPU                             4546 non-null   float64\n",
      " 19  Manure applied to Soils          4546 non-null   float64\n",
      " 20  Manure left on Pasture           4546 non-null   float64\n",
      " 21  Manure Management                4546 non-null   float64\n",
      " 22  Fires in organic soils           4546 non-null   float64\n",
      " 23  Fires in humid tropical forests  4546 non-null   float64\n",
      " 24  On-farm energy use               4546 non-null   float64\n",
      " 25  Rural population                 4546 non-null   float64\n",
      " 26  Urban population                 4546 non-null   float64\n",
      " 27  Total Population - Male          4546 non-null   float64\n",
      " 28  Total Population - Female        4546 non-null   float64\n",
      " 29  total_emission                   4546 non-null   float64\n",
      " 30  Average Temperature °C           4546 non-null   float64\n",
      "dtypes: float64(29), int64(1), object(1)\n",
      "memory usage: 1.1+ MB\n"
     ]
    }
   ],
   "source": [
    "#Checking The Information Of The Dataset\n",
    "df.info()"
   ]
  },
  {
   "cell_type": "markdown",
   "id": "6652be58-1348-464c-9676-8e6d7ccf08fd",
   "metadata": {},
   "source": [
    "Performing EDA"
   ]
  },
  {
   "cell_type": "code",
   "execution_count": 37,
   "id": "022a2d7a-8593-466e-b37c-fde68cb4039a",
   "metadata": {},
   "outputs": [
    {
     "name": "stdout",
     "output_type": "stream",
     "text": [
      "              Year  Savanna fires  Forest fires  Crop Residues  \\\n",
      "count  4546.000000    4546.000000   4546.000000    4546.000000   \n",
      "mean   2005.298724    1578.318742   1154.424220    1202.174505   \n",
      "std       8.859797    6188.105460   3788.977297    4069.987071   \n",
      "min    1990.000000       0.000000      0.000000       0.004500   \n",
      "25%    1998.000000       0.334500      0.048400      23.357000   \n",
      "50%    2005.000000      11.354550      7.592600     132.518200   \n",
      "75%    2013.000000     329.383700    222.426075     513.156025   \n",
      "max    2020.000000  114616.401100  52227.630600   33490.074100   \n",
      "\n",
      "       Rice Cultivation  Drained organic soils (CO2)  \\\n",
      "count       4546.000000                  4546.000000   \n",
      "mean        5601.932066                  5274.474704   \n",
      "std        21612.516836                 19388.814454   \n",
      "min            0.000000                     0.000000   \n",
      "25%           90.361875                     0.000000   \n",
      "50%          268.512150                   149.762750   \n",
      "75%         1344.480125                  2864.212500   \n",
      "max       164915.255600                241025.069600   \n",
      "\n",
      "       Pesticides Manufacturing  Food Transport     Forestland  \\\n",
      "count               4546.000000     4546.000000    4546.000000   \n",
      "mean                 490.486595     2706.917010  -25260.695489   \n",
      "std                 1747.779191     6754.799901   96669.741412   \n",
      "min                    0.000000        1.054300 -797183.079000   \n",
      "25%                    8.000000       98.830450   -7498.135150   \n",
      "50%                   34.000000      411.583700    -424.181900   \n",
      "75%                  189.750000     1654.717400       0.000000   \n",
      "max                16459.000000    67945.765000  171121.076000   \n",
      "\n",
      "       Net Forest conversion  ...  Manure Management  Fires in organic soils  \\\n",
      "count           4.546000e+03  ...        4546.000000             4546.000000   \n",
      "mean            2.096907e+04  ...        2938.618438             1854.341985   \n",
      "std             1.145262e+05  ...        9089.688421            28040.218491   \n",
      "min             0.000000e+00  ...           0.570700                0.000000   \n",
      "25%             0.000000e+00  ...         101.040225                0.000000   \n",
      "50%             4.548745e+02  ...         445.150650                0.000000   \n",
      "75%             7.459780e+03  ...        1699.477000                0.000000   \n",
      "max             1.605106e+06  ...       70592.646500           991717.543100   \n",
      "\n",
      "       Fires in humid tropical forests  On-farm energy use  Rural population  \\\n",
      "count                      4546.000000         4546.000000      4.546000e+03   \n",
      "mean                        778.154170         3949.355305      2.635997e+07   \n",
      "std                        3111.316439        14403.156282      1.091657e+08   \n",
      "min                           0.000000            0.031900      2.050600e+04   \n",
      "25%                           0.000000           43.269850      9.617765e+05   \n",
      "50%                           0.000000          362.908800      3.552274e+06   \n",
      "75%                          65.823275         1733.715400      1.175335e+07   \n",
      "max                       51771.256800       248879.176900      9.000991e+08   \n",
      "\n",
      "       Urban population  Total Population - Male  Total Population - Female  \\\n",
      "count      4.546000e+03             4.546000e+03               4.546000e+03   \n",
      "mean       2.483675e+07             2.579152e+07               2.538586e+07   \n",
      "std        8.018695e+07             9.302138e+07               8.863806e+07   \n",
      "min        2.307800e+04             3.405900e+04               3.402500e+04   \n",
      "25%        1.533926e+06             1.580942e+06               1.638107e+06   \n",
      "50%        4.496411e+06             4.673897e+06               4.776540e+06   \n",
      "75%        1.490217e+07             1.452794e+07               1.464379e+07   \n",
      "max        9.020778e+08             7.435866e+08               7.133419e+08   \n",
      "\n",
      "       total_emission  Average Temperature °C  \n",
      "count    4.546000e+03             4546.000000  \n",
      "mean     8.787338e+04                0.912381  \n",
      "std      2.759863e+05                0.580555  \n",
      "min     -3.918841e+05               -1.302417  \n",
      "25%      6.147423e+03                0.526979  \n",
      "50%      1.792552e+04                0.875167  \n",
      "75%      7.299027e+04                1.262063  \n",
      "max      3.115114e+06                3.558083  \n",
      "\n",
      "[8 rows x 30 columns]\n"
     ]
    }
   ],
   "source": [
    "print(df.describe())"
   ]
  },
  {
   "cell_type": "code",
   "execution_count": 39,
   "id": "0161eb37-1887-4023-bca7-9df7438b8eda",
   "metadata": {},
   "outputs": [],
   "source": [
    "#Set The Style\n",
    "sns.set_theme(style=\"whitegrid\")"
   ]
  },
  {
   "cell_type": "code",
   "execution_count": 47,
   "id": "37186073-ee6f-40b6-8a76-31c5a530d3d2",
   "metadata": {},
   "outputs": [
    {
     "data": {
      "image/png": "[encoded data removed]",
      "text/plain": [
       "<Figure size 800x500 with 1 Axes>"
      ]
     },
     "metadata": {},
     "output_type": "display_data"
    }
   ],
   "source": [
    "#Histogram of Average Temperature\n",
    "plt.figure(figsize=(8,5))\n",
    "sns.histplot(df[\"Average Temperature °C\"], kde=True, color=\"orange\")\n",
    "plt.title(\"Distribution of Average Temperature\")\n",
    "plt.show()"
   ]
  },
  {
   "cell_type": "markdown",
   "id": "4efdb06e-30d6-4dde-8938-fdd71775cd38",
   "metadata": {},
   "source": [
    "The Temperature is Uniformly distributed"
   ]
  },
  {
   "cell_type": "code",
   "execution_count": 51,
   "id": "ff565469-50d6-4f2a-9d75-b8d61365e2dd",
   "metadata": {},
   "outputs": [
    {
     "data": {
      "image/png": "[encoded data removed]",
      "text/plain": [
       "<Figure size 600x500 with 1 Axes>"
      ]
     },
     "metadata": {},
     "output_type": "display_data"
    }
   ],
   "source": [
    "# Boxplot of Average Temperature\n",
    "plt.figure(figsize=(6,5))\n",
    "sns.boxplot(y=df[\"Average Temperature °C\"], color=\"cyan\")\n",
    "plt.title(\"Boxplot of Average Temperature\")\n",
    "plt.show()"
   ]
  },
  {
   "cell_type": "markdown",
   "id": "9e2f2124-998d-4e74-8bbf-381ba048f68e",
   "metadata": {},
   "source": [
    "Most average temperatures are between ~0.6°C and 1.2°C, but there are quite a few unusual readings, both hot and cold, that fall well outside the typical range. This suggests that while the climate is relatively stable most of the time, there are occasional extreme events. This might be caused by Extreme weather events, seasonal changes or measurement errors."
   ]
  },
  {
   "cell_type": "code",
   "execution_count": 71,
   "id": "ee7932e7-cb5e-43ed-aecf-0e8399a42c4f",
   "metadata": {},
   "outputs": [
    {
     "name": "stdout",
     "output_type": "stream",
     "text": [
      "-0.5756458333333335\n",
      "2.3646875000000005\n"
     ]
    }
   ],
   "source": [
    "# Detect outliers using IQR method\n",
    "temp = 'Average Temperature °C'\n",
    "Q1 = df[temp].quantile(0.25)\n",
    "Q3 = df[temp].quantile(0.75)\n",
    "IQR = Q3 - Q1\n",
    "#Define lower and upper bounds for normal range\n",
    "lower_bound = Q1 - 1.5 * IQR\n",
    "upper_bound = Q3 + 1.5 * IQR\n",
    "df['IQR_outlier'] = ((df[temp] < lower_bound) | (df[temp] > upper_bound))\n",
    "print(lower_bound)\n",
    "print(upper_bound)"
   ]
  },
  {
   "cell_type": "markdown",
   "id": "7e83de1e-e725-4e23-b2ba-469f232e685d",
   "metadata": {},
   "source": [
    "This means that temperatures below -o.58 are outliers or what we'd like to call extremes and temperatures above 2.36 are also extremes(heatwave)"
   ]
  },
  {
   "cell_type": "code",
   "execution_count": 69,
   "id": "23d08dc3-8a8a-42aa-b196-92b6d7970850",
   "metadata": {},
   "outputs": [
    {
     "ename": "KeyError",
     "evalue": "'Likely_error'",
     "output_type": "error",
     "traceback": [
      "\u001b[1;31m---------------------------------------------------------------------------\u001b[0m",
      "\u001b[1;31mKeyError\u001b[0m                                  Traceback (most recent call last)",
      "File \u001b[1;32mC:\\ProgramData\\anaconda3\\Lib\\site-packages\\pandas\\core\\indexes\\base.py:3805\u001b[0m, in \u001b[0;36mIndex.get_loc\u001b[1;34m(self, key)\u001b[0m\n\u001b[0;32m   3804\u001b[0m \u001b[38;5;28;01mtry\u001b[39;00m:\n\u001b[1;32m-> 3805\u001b[0m     \u001b[38;5;28;01mreturn\u001b[39;00m \u001b[38;5;28mself\u001b[39m\u001b[38;5;241m.\u001b[39m_engine\u001b[38;5;241m.\u001b[39mget_loc(casted_key)\n\u001b[0;32m   3806\u001b[0m \u001b[38;5;28;01mexcept\u001b[39;00m \u001b[38;5;167;01mKeyError\u001b[39;00m \u001b[38;5;28;01mas\u001b[39;00m err:\n",
      "File \u001b[1;32mindex.pyx:167\u001b[0m, in \u001b[0;36mpandas._libs.index.IndexEngine.get_loc\u001b[1;34m()\u001b[0m\n",
      "File \u001b[1;32mindex.pyx:196\u001b[0m, in \u001b[0;36mpandas._libs.index.IndexEngine.get_loc\u001b[1;34m()\u001b[0m\n",
      "File \u001b[1;32mpandas\\\\_libs\\\\hashtable_class_helper.pxi:7081\u001b[0m, in \u001b[0;36mpandas._libs.hashtable.PyObjectHashTable.get_item\u001b[1;34m()\u001b[0m\n",
      "File \u001b[1;32mpandas\\\\_libs\\\\hashtable_class_helper.pxi:7089\u001b[0m, in \u001b[0;36mpandas._libs.hashtable.PyObjectHashTable.get_item\u001b[1;34m()\u001b[0m\n",
      "\u001b[1;31mKeyError\u001b[0m: 'Likely_error'",
      "\nThe above exception was the direct cause of the following exception:\n",
      "\u001b[1;31mKeyError\u001b[0m                                  Traceback (most recent call last)",
      "Cell \u001b[1;32mIn[69], line 1\u001b[0m\n\u001b[1;32m----> 1\u001b[0m \u001b[38;5;28mprint\u001b[39m(\u001b[38;5;124m\"\u001b[39m\u001b[38;5;124mLikely measurement errors:\u001b[39m\u001b[38;5;124m\"\u001b[39m, df[\u001b[38;5;124m'\u001b[39m\u001b[38;5;124mLikely_error\u001b[39m\u001b[38;5;124m'\u001b[39m]\u001b[38;5;241m.\u001b[39msum())\n\u001b[0;32m      2\u001b[0m \u001b[38;5;28mprint\u001b[39m(\u001b[38;5;124m\"\u001b[39m\u001b[38;5;124mPlausible extreme events:\u001b[39m\u001b[38;5;124m\"\u001b[39m, df[\u001b[38;5;124m'\u001b[39m\u001b[38;5;124mPlausible_extreme\u001b[39m\u001b[38;5;124m'\u001b[39m]\u001b[38;5;241m.\u001b[39msum())\n\u001b[0;32m      4\u001b[0m \u001b[38;5;66;03m# Save results for review\u001b[39;00m\n",
      "File \u001b[1;32mC:\\ProgramData\\anaconda3\\Lib\\site-packages\\pandas\\core\\frame.py:4102\u001b[0m, in \u001b[0;36mDataFrame.__getitem__\u001b[1;34m(self, key)\u001b[0m\n\u001b[0;32m   4100\u001b[0m \u001b[38;5;28;01mif\u001b[39;00m \u001b[38;5;28mself\u001b[39m\u001b[38;5;241m.\u001b[39mcolumns\u001b[38;5;241m.\u001b[39mnlevels \u001b[38;5;241m>\u001b[39m \u001b[38;5;241m1\u001b[39m:\n\u001b[0;32m   4101\u001b[0m     \u001b[38;5;28;01mreturn\u001b[39;00m \u001b[38;5;28mself\u001b[39m\u001b[38;5;241m.\u001b[39m_getitem_multilevel(key)\n\u001b[1;32m-> 4102\u001b[0m indexer \u001b[38;5;241m=\u001b[39m \u001b[38;5;28mself\u001b[39m\u001b[38;5;241m.\u001b[39mcolumns\u001b[38;5;241m.\u001b[39mget_loc(key)\n\u001b[0;32m   4103\u001b[0m \u001b[38;5;28;01mif\u001b[39;00m is_integer(indexer):\n\u001b[0;32m   4104\u001b[0m     indexer \u001b[38;5;241m=\u001b[39m [indexer]\n",
      "File \u001b[1;32mC:\\ProgramData\\anaconda3\\Lib\\site-packages\\pandas\\core\\indexes\\base.py:3812\u001b[0m, in \u001b[0;36mIndex.get_loc\u001b[1;34m(self, key)\u001b[0m\n\u001b[0;32m   3807\u001b[0m     \u001b[38;5;28;01mif\u001b[39;00m \u001b[38;5;28misinstance\u001b[39m(casted_key, \u001b[38;5;28mslice\u001b[39m) \u001b[38;5;129;01mor\u001b[39;00m (\n\u001b[0;32m   3808\u001b[0m         \u001b[38;5;28misinstance\u001b[39m(casted_key, abc\u001b[38;5;241m.\u001b[39mIterable)\n\u001b[0;32m   3809\u001b[0m         \u001b[38;5;129;01mand\u001b[39;00m \u001b[38;5;28many\u001b[39m(\u001b[38;5;28misinstance\u001b[39m(x, \u001b[38;5;28mslice\u001b[39m) \u001b[38;5;28;01mfor\u001b[39;00m x \u001b[38;5;129;01min\u001b[39;00m casted_key)\n\u001b[0;32m   3810\u001b[0m     ):\n\u001b[0;32m   3811\u001b[0m         \u001b[38;5;28;01mraise\u001b[39;00m InvalidIndexError(key)\n\u001b[1;32m-> 3812\u001b[0m     \u001b[38;5;28;01mraise\u001b[39;00m \u001b[38;5;167;01mKeyError\u001b[39;00m(key) \u001b[38;5;28;01mfrom\u001b[39;00m \u001b[38;5;21;01merr\u001b[39;00m\n\u001b[0;32m   3813\u001b[0m \u001b[38;5;28;01mexcept\u001b[39;00m \u001b[38;5;167;01mTypeError\u001b[39;00m:\n\u001b[0;32m   3814\u001b[0m     \u001b[38;5;66;03m# If we have a listlike key, _check_indexing_error will raise\u001b[39;00m\n\u001b[0;32m   3815\u001b[0m     \u001b[38;5;66;03m#  InvalidIndexError. Otherwise we fall through and re-raise\u001b[39;00m\n\u001b[0;32m   3816\u001b[0m     \u001b[38;5;66;03m#  the TypeError.\u001b[39;00m\n\u001b[0;32m   3817\u001b[0m     \u001b[38;5;28mself\u001b[39m\u001b[38;5;241m.\u001b[39m_check_indexing_error(key)\n",
      "\u001b[1;31mKeyError\u001b[0m: 'Likely_error'"
     ]
    }
   ],
   "source": []
  },
  {
   "cell_type": "code",
   "execution_count": null,
   "id": "ec93da1c-807e-4847-b33f-fb5b4b99f461",
   "metadata": {},
   "outputs": [],
   "source": []
  }
 ],
 "metadata": {
  "kernelspec": {
   "display_name": "Python 3 (ipykernel)",
   "language": "python",
   "name": "python3"
  },
  "language_info": {
   "codemirror_mode": {
    "name": "ipython",
    "version": 3
   },
   "file_extension": ".py",
   "mimetype": "text/x-python",
   "name": "python",
   "nbconvert_exporter": "python",
   "pygments_lexer": "ipython3",
   "version": "3.12.4"
  }
 },
 "nbformat": 4,
 "nbformat_minor": 5
}
